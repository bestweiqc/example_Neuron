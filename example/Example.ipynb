{
 "cells": [
  {
   "cell_type": "code",
   "execution_count": 1,
   "metadata": {},
   "outputs": [
    {
     "data": {
      "text/plain": [
       "1.0"
      ]
     },
     "execution_count": 1,
     "metadata": {},
     "output_type": "execute_result"
    }
   ],
   "source": [
    "from neuron import h\n",
    "import ipywidgets as widgets\n",
    "from ipywidgets import HBox,VBox,Label,Layout\n",
    "from IPython.display import display\n",
    "import matplotlib.pyplot as plt\n",
    "import pandas as pd\n",
    "import numpy as np\n",
    "%matplotlib inline\n",
    "h.load_file('stdrun.hoc')"
   ]
  },
  {
   "cell_type": "code",
   "execution_count": 2,
   "metadata": {},
   "outputs": [
    {
     "data": {
      "text/plain": [
       "1.0"
      ]
     },
     "execution_count": 2,
     "metadata": {},
     "output_type": "execute_result"
    }
   ],
   "source": [
    "soma = h.Section(name='soma')\n",
    "soma.L = 100 # um\n",
    "soma.insert('hh')\n",
    "v0_vec = h.Vector()\n",
    "t_vec = h.Vector()\n",
    "v0_vec.record(soma(0.5)._ref_v)\n",
    "t_vec.record(h._ref_t)"
   ]
  },
  {
   "cell_type": "code",
   "execution_count": 3,
   "metadata": {},
   "outputs": [
    {
     "data": {
      "text/plain": [
       "1.0"
      ]
     },
     "execution_count": 3,
     "metadata": {},
     "output_type": "execute_result"
    }
   ],
   "source": [
    "soma.insert('na1')\n",
    "soma.insert('k1')\n",
    "m_na = h.Vector()\n",
    "h_na = h.Vector()\n",
    "n_k = h.Vector()\n",
    "tau_m = h.Vector()\n",
    "tau_h = h.Vector()\n",
    "tau_n = h.Vector()\n",
    "m_na.record(soma(0.5)._ref_minf_na1)\n",
    "h_na.record(soma(0.5)._ref_hinf_na1)\n",
    "n_k.record(soma(0.5)._ref_ninf_k1)\n",
    "tau_m.record(soma(0.5)._ref_mtau_na1)\n",
    "tau_h.record(soma(0.5)._ref_htau_na1)\n",
    "tau_n.record(soma(0.5)._ref_taun_k1)"
   ]
  },
  {
   "cell_type": "code",
   "execution_count": 4,
   "metadata": {},
   "outputs": [],
   "source": [
    "def activemodel(diam,cm,el,gl,gna,gk,tstop,dur,amp,mhalf,hhalf,mk,hk,nhalf,kn,flag_1,flag_2,multiply,multiply1,multiply2):\n",
    "    soma.diam = diam\n",
    "    soma.cm = cm*1.4884e-4/6.2832e-4\n",
    "    soma.gnabar_hh = gna*1e-3\n",
    "    soma.gkbar_hh = gk*1e-3\n",
    "    soma.gl_hh = gl*1e-6\n",
    "    soma.el_hh = el\n",
    "    soma.mhalf_na1 = mhalf\n",
    "    soma.hhalf_na1 = hhalf\n",
    "    soma.mk_na1 = mk\n",
    "    soma.hk_na1 = hk\n",
    "    soma.vhalfn_k1 = nhalf\n",
    "    soma.kn_k1 = kn\n",
    "    soma.flag_na1 = flag_1\n",
    "    soma.flag_k1 = flag_2\n",
    "    soma.multiply1_na1 = multiply1\n",
    "    soma.multiply2_na1 = multiply2\n",
    "    soma.multiply_k1 = multiply\n",
    "        \n",
    "    \n",
    "    Source = h.IClamp(soma(0.5))\n",
    "    Source.delay = dur[0]\n",
    "    Source.dur = dur[1]-dur[0]\n",
    "    Source.amp = amp\n",
    "    \n",
    "    \n",
    "    h.tstop = tstop\n",
    "    h.v_init = el\n",
    "    \n",
    "    nc = h.NetCon(soma(0.5)._ref_v,None,sec=soma)\n",
    "    nc.threshold = 0\n",
    "    spvec = h.Vector()\n",
    "    nc.record(spvec)\n",
    "    \n",
    "    h.run()\n",
    "    print('number of spikes:',len(spvec))\n",
    "    \n",
    "    \n",
    "    \n",
    "\n",
    "    if soma.flag_k1 == 0:\n",
    "        R_in_1 = 1/(soma.gl_hh*1000)\n",
    "        tau_1 = soma.cm*R_in_1\n",
    "        V_rest_1 = v0_vec[int(tstop)-20]\n",
    "        soma.flag_k1 = 1 - soma.flag_k1\n",
    "        h.run()\n",
    "        dt_V = v0_vec[int(dur[1])-10]-v0_vec[int(dur[0])-10]\n",
    "        R_in_2 = dt_V/Source.amp\n",
    "        tau_2 = soma.cm*R_in_2\n",
    "        V_rest_2 = v0_vec[int(tstop)-20]\n",
    "        soma.flag_k1 = 1 - soma.flag_k1\n",
    "        h.run()\n",
    "\n",
    "    if soma.flag_k1 == 1:\n",
    "        dt_V = v0_vec[int(dur[1])-10]-v0_vec[int(dur[0])-10]\n",
    "        R_in_2 = dt_V/Source.amp\n",
    "        tau_2 = soma.cm*R_in_2\n",
    "        V_rest_2 = v0_vec[int(tstop)-20]\n",
    "        soma.flag_k1 = 1 - soma.flag_k1\n",
    "        h.run()\n",
    "        R_in_1 = 1/(soma.gl_hh*1000)\n",
    "        tau_1 = soma.cm*R_in_1\n",
    "        V_rest_1 = v0_vec[int(tstop)-20]\n",
    "        soma.flag_k1 = 1 - soma.flag_k1\n",
    "        h.run()\n",
    "            \n",
    "            \n",
    "    df1 = pd.DataFrame([[tau_1],[V_rest_1],[R_in_1],[tau_2],[V_rest_2],[R_in_2]],\n",
    "    columns=['value  '],\n",
    "    index = ['tau_seg  ', 'Vrest_seg  ', 'Rin_seg  ','tau_ori  ', 'Vrest_ori  ', 'Rin_ori  '])\n",
    "    if Source.amp < 0:\n",
    "        print (df1)\n",
    "        \n",
    "    plt.figure(figsize=(16,14))\n",
    "    plt.subplot(4,1,1)\n",
    "    plt.plot(t_vec, v0_vec,'b')\n",
    "    plt.xlim(0, tstop)\n",
    "    plt.ylabel('mV')\n",
    "        \n",
    "    # FIR Curve\n",
    "\n",
    "    freq1 = []\n",
    "    I1 = []\n",
    "    freq2 = []\n",
    "    I2 = []\n",
    "    if (Source.amp > 0):\n",
    "        for Source.amp in np.arange(amp,amp+3,0.2):\n",
    "            h.run()\n",
    "            freq1.append(len(spvec)/Source.dur)\n",
    "            I1.append(Source.amp)\n",
    "        soma.flag_k1 = 1 - soma.flag_k1\n",
    "        for Source.amp in np.arange(amp,amp+3,0.2):    \n",
    "            h.run()\n",
    "            freq2.append(len(spvec)/Source.dur)\n",
    "            I2.append(Source.amp)\n",
    "        plt.subplot(4,1,2)\n",
    "        plt.plot(I1,freq1,'yo')\n",
    "        plt.plot(I2,freq2,'bo')\n",
    "        plt.legend([soma.flag_k1,1-soma.flag_k1])\n",
    "        plt.xlabel('Injected current (nA)')\n",
    "        plt.ylabel('frequency') \n",
    "        plt.subplot(4,1,3)\n",
    "        plt.plot(v0_vec, m_na,'r.')\n",
    "        plt.plot(v0_vec, h_na,'b.')\n",
    "        plt.plot(v0_vec, n_k, 'g.')\n",
    "       # plt.xlim(0, tstop)\n",
    "        plt.xlabel('voltage (mV)')\n",
    "        plt.ylabel('Probability')\n",
    "        plt.legend(['minf','hinf','ninf'])\n",
    "        plt.subplot(4,1,4)\n",
    "        plt.plot(v0_vec, tau_m,'r.')\n",
    "        plt.plot(v0_vec, tau_h,'b.')\n",
    "        plt.plot(v0_vec, tau_n, 'g.')\n",
    "        plt.xlabel('vlotage (mV)')\n",
    "        plt.ylabel('tau')\n",
    "        plt.legend(['minf','hinf','ninf'])\n",
    "    plt.show()"
   ]
  },
  {
   "cell_type": "code",
   "execution_count": 8,
   "metadata": {},
   "outputs": [
    {
     "data": {
      "application/vnd.jupyter.widget-view+json": {
       "model_id": "4e33d051b55043119249207758ff3366",
       "version_major": 2,
       "version_minor": 0
      },
      "text/plain": [
       "HBox(children=(VBox(children=(Label(value='Easy Model'), Label(value='Passive Cell'), Label(value='\\\\( E_{l}\\\\…"
      ]
     },
     "metadata": {},
     "output_type": "display_data"
    },
    {
     "data": {
      "application/vnd.jupyter.widget-view+json": {
       "model_id": "03b3503383aa4a7cb589b2b78f54afd0",
       "version_major": 2,
       "version_minor": 0
      },
      "text/plain": [
       "Output()"
      ]
     },
     "metadata": {},
     "output_type": "display_data"
    }
   ],
   "source": [
    "# default settings\n",
    "diam = 200\n",
    "cm = 1\n",
    "el = -70\n",
    "gl = 30\n",
    "gna = 120\n",
    "gk = 12\n",
    "tstop = 500\n",
    "dur = [100,400]\n",
    "amp = 0.1\n",
    "mhalf = -38\n",
    "hhalf = -50\n",
    "mk = 7\n",
    "hk = 4\n",
    "kn = 11\n",
    "vhalfn = -9\n",
    "flag_1 = 0\n",
    "flag_2 = 0\n",
    "multiply = 1\n",
    "multiply1 = 1\n",
    "multiply2 = 1\n",
    "\n",
    "\n",
    "\n",
    "w_model = widgets.Checkbox(value=False,description='Easy_Model',button_style='info')\n",
    "w_pass = widgets.Checkbox(value=False,description='Passive',button_style='info')\n",
    "w_el = widgets.FloatSlider(value=el,min=-80,max=-60,step=.2,continuous_update=False,readout_format='.1f')\n",
    "w_gl = widgets.FloatSlider(value=gl,min=5,max=50,step=.2,continuous_update=False,readout_format='.1f')\n",
    "w_gna = widgets.FloatSlider(value=gna,min=0,max=200,step=.5,continuous_update=False,readout_format='.1f')\n",
    "w_gk = widgets.FloatSlider(value=gk,min=0,max=30,step=.1,continuous_update=False,readout_format='.1f')\n",
    "w_mhalf = widgets.FloatSlider(value=mhalf,min=-50,max=-5,step=1,continuous_update=False,readout_format='.1f')\n",
    "w_hhalf = widgets.FloatSlider(value=hhalf,min=-80,max=-40,step=1,continuous_update=False,readout_format='.1f')\n",
    "w_nhalf = widgets.FloatSlider(value=vhalfn,min=-30,max=5,step=1,continuous_update=False,readout_format='.1f')\n",
    "w_flag_1 = widgets.FloatSlider(value=flag_1,min=0,max=1,step=1,continuous_update=False,readout_format='.1f')\n",
    "\n",
    "w_tstop = widgets.FloatText(value=500)\n",
    "w_dur = widgets.FloatRangeSlider(value=[100,400],min=0,max=500,step=5,continuous_update=False,readout_format='.0f')\n",
    "w_amp = widgets.FloatSlider(value=0.1,min=-.2,max=.8,step=.01,continuous_update=False,readout_format='.2f')\n",
    "w_diam = widgets.FloatSlider(value=diam,min=100,max=300,step=2,continuous_update=False,readout_format='.0f')\n",
    "w_cm = widgets.FloatLogSlider(value=cm,min=-1,max=1,step=.05,continuous_update=False,readout_format='.1f')\n",
    "w_mk = widgets.FloatSlider(value=mk,min=0,max=30,step=.1,continuous_update=False,readout_format='.1f')\n",
    "w_hk = widgets.FloatSlider(value=hk,min=0,max=30,step=.1,continuous_update=False,readout_format='.1f')\n",
    "w_kn = widgets.FloatSlider(value=kn,min=0,max=30,step=1,continuous_update=False,readout_format='.1f')\n",
    "w_multiply = widgets.FloatSlider(value=multiply,min=0,max=1,step=.1,continuous_update=False,readout_format='.1f')\n",
    "w_multiply1 = widgets.FloatSlider(value=multiply1,min=0,max=1,step=.1,continuous_update=False,readout_format='.1f')\n",
    "w_multiply2 = widgets.FloatSlider(value=multiply2,min=0,max=1,step=.1,continuous_update=False,readout_format='.1f')\n",
    "w_flag_2 = w_flag_1 \n",
    "\n",
    "def update_pass(*args):\n",
    "    if w_pass.value:\n",
    "        global gna,gk,df1\n",
    "        gna = w_gna.value\n",
    "        gk = w_gk.value\n",
    "        w_amp.value = -0.03\n",
    "        w_gna.value = w_gk.value = 0\n",
    "        w_gna.disabled = w_gk.disabled = True\n",
    "        \n",
    "    else:\n",
    "        w_gna.value = gna\n",
    "        w_gk.value = gk\n",
    "        w_amp.value = 0.1\n",
    "        w_gna.disabled = w_gk.disabled = False\n",
    "w_pass.observe(update_pass,'value')\n",
    "\n",
    "def update_easy(*args):\n",
    "    if w_model.value:\n",
    "        global mhalf,hhalf,vhalfn,mk,hk,kn,multiply,multiply1,multiply2\n",
    "        mhalf = w_mhalf \n",
    "        hhalf = w_hhalf\n",
    "        vhalf = w_nhalf\n",
    "        mk = w_mk \n",
    "        hk = w_hk\n",
    "        kn = w_kn \n",
    "        multiply = w_multiply\n",
    "        multiply1 = w_multiply1\n",
    "        multiply2 = w_multiply2\n",
    "        w_mhalf.disabled = True\n",
    "        w_hhalf.disabled = True\n",
    "        w_nhalf.disabled = True\n",
    "        w_mk.disabled = True\n",
    "        w_hk.disabled = True\n",
    "        w_kn.disabled = True\n",
    "        w_multiply.disabled = True\n",
    "        w_multiply1.disabled = True\n",
    "        w_multiply2.disabled = True\n",
    "w_model.observe(update_easy,'value')\n",
    "                 \n",
    "def update_dur(*args):\n",
    "    w_dur.max = w_tstop.value\n",
    "w_tstop.observe(update_dur,'value')\n",
    "\n",
    "\n",
    "ui = HBox([VBox([Label('Easy Model'),Label('Passive Cell'),Label(value=r'\\( E_{l}\\:(mV) \\)'),Label(value=r'\\( g_{leak}\\:(\\mu S/cm^2) \\)'),\n",
    "                 Label(value=r'\\( g_{Na}\\:(mS/cm^2) \\)'),Label(value=r'\\( g_{K}\\:(mS/cm^2) \\)'),Label(value=r'\\( V{1/2m}\\: \\)'),Label(value=r'\\( V{1/2h}\\: \\)'),Label(value=r'\\( V{1/2n}\\: \\)'),Label(value=r'\\(segregation\\: \\)')],layout=Layout(width='10%')),\n",
    "           VBox([w_model,w_pass,w_el,w_gl,w_gna,w_gk,w_mhalf,w_hhalf,w_nhalf,w_flag_1],layout=Layout(width='38%')),\n",
    "           VBox([Label(value=r'\\( tstop\\:(ms) \\)'),Label(value=r'\\( Injection duration\\:(ms) \\)'),Label(value=r'\\( I_{inject}\\:(nA) \\)'),\n",
    "                 Label(value=r'\\( soma\\:diameter\\:(\\mu m) \\)'),Label(value=r'\\( capacitance\\:scale \\)'),Label(value=r'\\( k_{m}\\: \\)'),Label(value=r'\\( k_{h}\\: \\)'),Label(value=r'\\( k_{n}\\: \\)'),\n",
    "                Label(value= 'multiply_n'),Label(value='multiply_m'),Label(value='multiply_h')],layout=Layout(width='14%')),\n",
    "           VBox([w_tstop,w_dur,w_amp,w_diam,w_cm,w_mk,w_hk,w_kn,w_multiply,w_multiply1,w_multiply2],layout=Layout(width='38%')) ])\n",
    "\n",
    "out = widgets.interactive_output(activemodel,{'el':w_el,'gl':w_gl,'gna':w_gna,'gk':w_gk,\n",
    "                                              'tstop':w_tstop,'dur':w_dur,'amp':w_amp,'diam':w_diam,'cm':w_cm,\n",
    "                                              'mhalf':w_mhalf,'hhalf':w_hhalf,'nhalf':w_nhalf,'mk':w_mk,\n",
    "                                              'hk':w_hk,'kn':w_kn,'flag_1':w_flag_1,'flag_2':w_flag_2,\n",
    "                                             'multiply':w_multiply,'multiply1':w_multiply1,'multiply2':w_multiply2})\n",
    "display(ui,out)\n"
   ]
  },
  {
   "cell_type": "code",
   "execution_count": null,
   "metadata": {},
   "outputs": [],
   "source": []
  }
 ],
 "metadata": {
  "kernelspec": {
   "display_name": "Python 3",
   "language": "python",
   "name": "python3"
  },
  "language_info": {
   "codemirror_mode": {
    "name": "ipython",
    "version": 3
   },
   "file_extension": ".py",
   "mimetype": "text/x-python",
   "name": "python",
   "nbconvert_exporter": "python",
   "pygments_lexer": "ipython3",
   "version": "3.6.9"
  }
 },
 "nbformat": 4,
 "nbformat_minor": 2
}
